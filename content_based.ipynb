{
 "cells": [
  {
   "cell_type": "code",
   "execution_count": 231,
   "metadata": {
    "collapsed": false
   },
   "outputs": [
    {
     "data": {
      "text/plain": [
       "[5, 134, 139, 152, 183]"
      ]
     },
     "execution_count": 231,
     "metadata": {},
     "output_type": "execute_result"
    }
   ],
   "source": [
    "import pandas as pd\n",
    "import numpy as np\n",
    "import ScoreCalculate as sc\n",
    "import DataReaderplus as dr\n",
    "from sklearn.metrics.pairwise import cosine_similarity \n",
    "\n",
    "#get score table\n",
    "scoreData = dr.DataReader().get_score_data()\n",
    "\n",
    "#get all user in score table\n",
    "unique_users = scoreData.user_id.unique()\n",
    "\n",
    "#get list of all keywords\n",
    "all_keywords= dr.DataReader().get_all_keywords()\n",
    "\n",
    "#get list of all tech ids\n",
    "all_tech_ids = dr.DataReader().get_technology_id()\n",
    "\n",
    "#creat empty dictionary to store tech_profiles \n",
    "tech_profiles = {}\n",
    " \n",
    "for tech in all_tech_ids:\n",
    "    #tech profiling by mapping with all_keywords\n",
    "    tech_profile = np.array(dr.DataReader().cal_technology_keywords(all_keywords, tech))\n",
    "    tech_profiles[tech] = tech_profile \n",
    "      \n",
    "\n",
    " \n",
    "\n",
    "    \n",
    "    \n"
   ]
  },
  {
   "cell_type": "code",
   "execution_count": null,
   "metadata": {
    "collapsed": true
   },
   "outputs": [],
   "source": [
    "#############user profiling mapping with all_keywords############# \n",
    "#dictionary to store user profile with user_id as key\n",
    "\n",
    "user_profiles = {}\n",
    "\n",
    "\n",
    "\n",
    "#iterate through all users in score table\n",
    "for user in unique_users:  \n",
    "    #initial weight_sum \n",
    "    weight_sum = 0\n",
    "    #initial user_keywords_sums\n",
    "    user_keywords_sum = np.zeros(len(all_keywords))\n",
    "    user_tech_ids = dr.DataReader().extract_interacted_technology(user)\n",
    "    #iterate through all tech ids which this user has interaction with\n",
    "    for tech_id in user_tech_ids:\n",
    "        #user viewed tech mapping with all keywords and weight by score\n",
    "        weight = scoreData.loc[ (scoreData.user_id == user) & (scoreData.technology_id == tech_id), \"total_score\"].iloc[0]  \n",
    "        #print weight\n",
    "        user_keywords = np.array(dr.DataReader().cal_technology_keywords(all_keywords, tech_id)) * weight\n",
    "        #sum all vectors of this user\n",
    "        user_keywords_sum = user_keywords_sum + user_keywords       \n",
    "        #sum weigth for one user\n",
    "        weight_sum = weight_sum + weight\n",
    "    #print weight_sum\n",
    "    #print user_keywords_sum\n",
    "    # mean of vector as user profile\n",
    "    user_profiles[user] = user_keywords_sum/weight_sum\n",
    "    \n",
    "    "
   ]
  },
  {
   "cell_type": "code",
   "execution_count": 218,
   "metadata": {
    "collapsed": false
   },
   "outputs": [
    {
     "data": {
      "text/plain": [
       "[5, 134, 139, 152, 183]"
      ]
     },
     "execution_count": 218,
     "metadata": {},
     "output_type": "execute_result"
    }
   ],
   "source": [
    "# Given user id make recommendation\n",
    "def recomend_top_similarity(user_id):\n",
    "    \"\"\"Given user id to make recommendation for top 5 most similar technologies \"\"\"\n",
    "    tech_similarity = {}\n",
    "    user_preference =user_profiles[user_id]\n",
    "    known_tech_ids = dr.DataReader().extract_interacted_technology(user_id)\n",
    "    unknown_tech_ids = np.delete(np.array(all_tech_ids),known_tech_ids)\n",
    "    for tech in unknown_tech_ids:\n",
    "        tech_similarity[tech] = cosine_similarity(user_preference.reshape(1,-1), tech_profiles[tech].reshape(1,-1))\n",
    "    sorted_similarity = sorted(tech_similarity, key = tech_similarity.get)\n",
    "    #print sorted_similarity\n",
    "    top_similarity = sorted_similarity[:5]\n",
    "    return top_similarity\n",
    "\n",
    "#test\n",
    "recomend_top_similarity('528f575a-c6a8-4fdb-9bd7-4662d4718e13')"
   ]
  },
  {
   "cell_type": "code",
   "execution_count": null,
   "metadata": {
    "collapsed": true
   },
   "outputs": [],
   "source": []
  }
 ],
 "metadata": {
  "anaconda-cloud": {},
  "kernelspec": {
   "display_name": "Python [conda env:python27]",
   "language": "python",
   "name": "conda-env-python27-py"
  },
  "language_info": {
   "codemirror_mode": {
    "name": "ipython",
    "version": 2
   },
   "file_extension": ".py",
   "mimetype": "text/x-python",
   "name": "python",
   "nbconvert_exporter": "python",
   "pygments_lexer": "ipython2",
   "version": "2.7.13"
  }
 },
 "nbformat": 4,
 "nbformat_minor": 1
}
